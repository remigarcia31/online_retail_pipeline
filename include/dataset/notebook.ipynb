{
 "cells": [
  {
   "cell_type": "code",
   "execution_count": 2,
   "metadata": {},
   "outputs": [],
   "source": [
    "import pandas as pd\n",
    "import random\n",
    "\n",
    "# Liste de pays possibles \n",
    "countries = [\"USA\", \"France\", \"Germany\", \"India\", \"Japan\", \"Brazil\", \"Canada\", \"Australia\", \"UK\", \"China\"]\n",
    "\n",
    "# Charger le fichier CSV depuis un fichier local\n",
    "csv_file_path = \"retail_sales_dataset.csv\"\n",
    "try:\n",
    "    df = pd.read_csv(csv_file_path)\n",
    "except Exception as e:\n",
    "    print(f\"Erreur lors du chargement du fichier CSV : {e}\")\n",
    "    exit()\n",
    "\n",
    "# Ajouter une colonne 'Country' avec des valeurs aléatoires\n",
    "df['Country'] = [random.choice(countries) for _ in range(len(df))]\n",
    "\n",
    "# Sauvegarder le nouveau fichier CSV\n",
    "df.to_csv('retail_sales_dataset.csv', index=False)\n"
   ]
  },
  {
   "cell_type": "code",
   "execution_count": null,
   "metadata": {},
   "outputs": [],
   "source": []
  }
 ],
 "metadata": {
  "kernelspec": {
   "display_name": "base",
   "language": "python",
   "name": "python3"
  },
  "language_info": {
   "codemirror_mode": {
    "name": "ipython",
    "version": 3
   },
   "file_extension": ".py",
   "mimetype": "text/x-python",
   "name": "python",
   "nbconvert_exporter": "python",
   "pygments_lexer": "ipython3",
   "version": "3.12.3"
  }
 },
 "nbformat": 4,
 "nbformat_minor": 2
}
